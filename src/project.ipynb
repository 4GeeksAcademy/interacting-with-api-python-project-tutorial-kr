{
 "cells": [
  {
   "cell_type": "code",
   "execution_count": 50,
   "metadata": {},
   "outputs": [],
   "source": [
    "#Step 1: Create a Spotify Developer Account"
   ]
  },
  {
   "cell_type": "code",
   "execution_count": 51,
   "metadata": {},
   "outputs": [
    {
     "name": "stdout",
     "output_type": "stream",
     "text": [
      "Defaulting to user installation because normal site-packages is not writeable\n",
      "Requirement already satisfied: spotipy in /home/vscode/.local/lib/python3.11/site-packages (2.23.0)\n",
      "Requirement already satisfied: python-dotenv in /home/vscode/.local/lib/python3.11/site-packages (0.20.0)\n",
      "Requirement already satisfied: pandas in /home/vscode/.local/lib/python3.11/site-packages (2.2.3)\n",
      "Requirement already satisfied: matplotlib in /home/vscode/.local/lib/python3.11/site-packages (3.10.1)\n",
      "Requirement already satisfied: seaborn in /home/vscode/.local/lib/python3.11/site-packages (0.13.2)\n",
      "Requirement already satisfied: redis>=3.5.3 in /home/vscode/.local/lib/python3.11/site-packages (from spotipy) (5.2.1)\n",
      "Requirement already satisfied: requests>=2.25.0 in /home/vscode/.local/lib/python3.11/site-packages (from spotipy) (2.27.1)\n",
      "Requirement already satisfied: six>=1.15.0 in /home/vscode/.local/lib/python3.11/site-packages (from spotipy) (1.17.0)\n",
      "Requirement already satisfied: urllib3>=1.26.0 in /home/vscode/.local/lib/python3.11/site-packages (from spotipy) (1.26.20)\n",
      "Requirement already satisfied: numpy>=1.23.2 in /home/vscode/.local/lib/python3.11/site-packages (from pandas) (2.2.3)\n",
      "Requirement already satisfied: python-dateutil>=2.8.2 in /home/vscode/.local/lib/python3.11/site-packages (from pandas) (2.9.0.post0)\n",
      "Requirement already satisfied: pytz>=2020.1 in /home/vscode/.local/lib/python3.11/site-packages (from pandas) (2025.1)\n",
      "Requirement already satisfied: tzdata>=2022.7 in /home/vscode/.local/lib/python3.11/site-packages (from pandas) (2025.1)\n",
      "Requirement already satisfied: contourpy>=1.0.1 in /home/vscode/.local/lib/python3.11/site-packages (from matplotlib) (1.3.1)\n",
      "Requirement already satisfied: cycler>=0.10 in /home/vscode/.local/lib/python3.11/site-packages (from matplotlib) (0.12.1)\n",
      "Requirement already satisfied: fonttools>=4.22.0 in /home/vscode/.local/lib/python3.11/site-packages (from matplotlib) (4.56.0)\n",
      "Requirement already satisfied: kiwisolver>=1.3.1 in /home/vscode/.local/lib/python3.11/site-packages (from matplotlib) (1.4.8)\n",
      "Requirement already satisfied: packaging>=20.0 in /home/vscode/.local/lib/python3.11/site-packages (from matplotlib) (24.2)\n",
      "Requirement already satisfied: pillow>=8 in /home/vscode/.local/lib/python3.11/site-packages (from matplotlib) (11.1.0)\n",
      "Requirement already satisfied: pyparsing>=2.3.1 in /home/vscode/.local/lib/python3.11/site-packages (from matplotlib) (3.2.1)\n",
      "Requirement already satisfied: certifi>=2017.4.17 in /home/vscode/.local/lib/python3.11/site-packages (from requests>=2.25.0->spotipy) (2025.1.31)\n",
      "Requirement already satisfied: charset-normalizer~=2.0.0 in /home/vscode/.local/lib/python3.11/site-packages (from requests>=2.25.0->spotipy) (2.0.12)\n",
      "Requirement already satisfied: idna<4,>=2.5 in /home/vscode/.local/lib/python3.11/site-packages (from requests>=2.25.0->spotipy) (3.10)\n",
      "\n",
      "\u001b[1m[\u001b[0m\u001b[34;49mnotice\u001b[0m\u001b[1;39;49m]\u001b[0m\u001b[39;49m A new release of pip is available: \u001b[0m\u001b[31;49m23.1.2\u001b[0m\u001b[39;49m -> \u001b[0m\u001b[32;49m25.0.1\u001b[0m\n",
      "\u001b[1m[\u001b[0m\u001b[34;49mnotice\u001b[0m\u001b[1;39;49m]\u001b[0m\u001b[39;49m To update, run: \u001b[0m\u001b[32;49mpip install --upgrade pip\u001b[0m\n",
      "Note: you may need to restart the kernel to use updated packages.\n"
     ]
    }
   ],
   "source": [
    "#Step 2: Initial configuration\n",
    "\n",
    "%pip install spotipy python-dotenv pandas matplotlib seaborn"
   ]
  },
  {
   "cell_type": "code",
   "execution_count": 52,
   "metadata": {},
   "outputs": [],
   "source": [
    "#Step 3: Environment variables\n",
    "\n",
    "import os\n",
    "import spotipy\n",
    "from spotipy.oauth2 import SpotifyClientCredentials\n",
    "from dotenv import load_dotenv\n",
    "import pandas as pd\n",
    "import matplotlib.pyplot as plt\n",
    "import seaborn as sns\n",
    "\n",
    "load_dotenv()\n",
    "\n",
    "client_id = os.getenv(\"CLIENT_ID\")\n",
    "client_secret = os.getenv(\"CLIENT_SECRET\")"
   ]
  },
  {
   "cell_type": "code",
   "execution_count": 53,
   "metadata": {},
   "outputs": [],
   "source": [
    "#Step 4: Initialize Spotipy library\n",
    "\n",
    "sp = spotipy.Spotify(auth_manager=SpotifyClientCredentials(client_id=client_id, client_secret=client_secret))"
   ]
  },
  {
   "cell_type": "code",
   "execution_count": 54,
   "metadata": {},
   "outputs": [
    {
     "name": "stdout",
     "output_type": "stream",
     "text": [
      "Artist: Michael Jackson | ID: 3fMbdgg4jU18AjLCKBhRSm\n"
     ]
    }
   ],
   "source": [
    "#Step 5: Make API requests\n",
    "\n",
    "def get_artist_id(artist_name):\n",
    "    results = sp.search(q=artist_name, type=\"artist\", limit=1)\n",
    "    artists = results[\"artists\"][\"items\"]\n",
    "\n",
    "    if artists:\n",
    "        artist_id = artists[0][\"id\"]\n",
    "        print(f\"Artist: {artists[0]['name']} | ID: {artist_id}\")\n",
    "        return artist_id\n",
    "    else:\n",
    "        print(\"Artist not found.\")\n",
    "        return None\n",
    "    \n",
    "artist_name = \"Michael Jackson\"\n",
    "artist_id = get_artist_id(artist_name)"
   ]
  },
  {
   "cell_type": "code",
   "execution_count": 55,
   "metadata": {},
   "outputs": [
    {
     "name": "stdout",
     "output_type": "stream",
     "text": [
      "1. Billie Jean - Popularity: 81, Duration: 4.90 min\n",
      "2. Beat It - Popularity: 79, Duration: 4.31 min\n",
      "3. Smooth Criminal - 2012 Remaster - Popularity: 75, Duration: 4.30 min\n",
      "4. Rock with You - Single Version - Popularity: 78, Duration: 3.68 min\n",
      "5. Chicago - Popularity: 78, Duration: 4.09 min\n",
      "6. The Way You Make Me Feel - 2012 Remaster - Popularity: 73, Duration: 4.97 min\n",
      "7. Don't Stop 'Til You Get Enough - Popularity: 76, Duration: 6.09 min\n",
      "8. Thriller - Popularity: 72, Duration: 5.96 min\n",
      "9. P.Y.T. (Pretty Young Thing) - Popularity: 73, Duration: 3.98 min\n",
      "10. Remember the Time - Popularity: 74, Duration: 3.99 min\n"
     ]
    }
   ],
   "source": [
    "def get_top_tracks(artist_id):\n",
    "    results = sp.artist_top_tracks(artist_id)\n",
    "    \n",
    "    tracks_data = []\n",
    "    for track in results[\"tracks\"][:10]:\n",
    "        tracks_data.append({\n",
    "            \"name\": track[\"name\"],\n",
    "            \"popularity\": track[\"popularity\"],\n",
    "            \"duration_min\": track[\"duration_ms\"] / 60000\n",
    "        })\n",
    "    return tracks_data\n",
    "\n",
    "if artist_id:\n",
    "    top_tracks = get_top_tracks(artist_id)\n",
    "\n",
    "    for i, track in enumerate(top_tracks, start=1):\n",
    "        print(f\"{i}. {track['name']} - Popularity: {track['popularity']}, Duration: {track['duration_min']:.2f} min\")"
   ]
  },
  {
   "cell_type": "code",
   "execution_count": 56,
   "metadata": {},
   "outputs": [
    {
     "name": "stdout",
     "output_type": "stream",
     "text": [
      "\n",
      "Top 10 Songs of Michael Jackson:\n",
      "                                       name  popularity  duration_min\n",
      "0                               Billie Jean          81      4.903767\n",
      "1                                   Beat It          79      4.306650\n",
      "3            Rock with You - Single Version          78      3.677100\n",
      "4                                   Chicago          78      4.091767\n",
      "6            Don't Stop 'Til You Get Enough          76      6.091100\n",
      "2           Smooth Criminal - 2012 Remaster          75      4.296000\n",
      "9                         Remember the Time          74      3.987100\n",
      "5  The Way You Make Me Feel - 2012 Remaster          73      4.968667\n",
      "8               P.Y.T. (Pretty Young Thing)          73      3.983767\n",
      "7                                  Thriller          72      5.963333\n"
     ]
    }
   ],
   "source": [
    "#Step 6: Transform to Pandas DataFrame\n",
    "\n",
    "if artist_id:\n",
    "    top_tracks = get_top_tracks(artist_id)\n",
    "\n",
    "    df = pd.DataFrame(top_tracks)\n",
    "\n",
    "    df_sorted = df.sort_values(by=\"popularity\", ascending=False)\n",
    "\n",
    "    print(\"\\nTop 10 Songs of Michael Jackson:\")\n",
    "    print(df_sorted)"
   ]
  },
  {
   "cell_type": "code",
   "execution_count": 57,
   "metadata": {},
   "outputs": [
    {
     "name": "stdout",
     "output_type": "stream",
     "text": [
      "\n",
      "Top 3 Songs by Popularity of Michael Jackson:\n",
      "                             name  popularity  duration_min\n",
      "0                     Billie Jean          81      4.903767\n",
      "1                         Beat It          79      4.306650\n",
      "3  Rock with You - Single Version          78      3.677100\n"
     ]
    }
   ],
   "source": [
    "print(\"\\nTop 3 Songs by Popularity of Michael Jackson:\")\n",
    "print(df_sorted.head(3))"
   ]
  },
  {
   "cell_type": "code",
   "execution_count": 58,
   "metadata": {},
   "outputs": [
    {
     "data": {
      "image/png": "[encoded data removed]",
      "text/plain": [
       "<Figure size 800x500 with 1 Axes>"
      ]
     },
     "metadata": {},
     "output_type": "display_data"
    }
   ],
   "source": [
    "#Step 7: Analyze statistical relationship\n",
    "\n",
    "def plot_popularity_vs_duration(df):\n",
    "    plt.figure(figsize=(8, 5))\n",
    "    sns.scatterplot(data=df, x=\"duration_min\", y=\"popularity\", s=100)\n",
    "    \n",
    "    plt.xlabel(\"Duration (Minutes)\")\n",
    "    plt.ylabel(\"Popularity\")\n",
    "    plt.title(\"MJ's Top 10 Songs: Duration vs. Popularity\")\n",
    "    plt.grid(True)\n",
    "    plt.show()\n",
    "\n",
    "if df is not None:\n",
    "    plot_popularity_vs_duration(df)"
   ]
  },
  {
   "cell_type": "markdown",
   "metadata": {},
   "source": [
    "The scatter plot does not show that there is a relationship between the duration of a song and its popularity for the top 10 Michael Jackson songs. So we cannot say that a song that lasts a short time may be more popular than a song that lasts longer. I believe that the popularity of a song especially in MJ's time was influenced by how many times a song was played on a radio or what was a more popular topic in differenct decades."
   ]
  }
 ],
 "metadata": {
  "kernelspec": {
   "display_name": "Python 3",
   "language": "python",
   "name": "python3"
  },
  "language_info": {
   "codemirror_mode": {
    "name": "ipython",
    "version": 3
   },
   "file_extension": ".py",
   "mimetype": "text/x-python",
   "name": "python",
   "nbconvert_exporter": "python",
   "pygments_lexer": "ipython3",
   "version": "3.11.4"
  }
 },
 "nbformat": 4,
 "nbformat_minor": 2
}
